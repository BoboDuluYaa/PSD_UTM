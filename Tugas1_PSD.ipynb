{
  "nbformat": 4,
  "nbformat_minor": 0,
  "metadata": {
    "colab": {
      "provenance": [],
      "authorship_tag": "ABX9TyPpMGVPcbr6UYSqrEcyQDaZ",
      "include_colab_link": true
    },
    "kernelspec": {
      "name": "python3",
      "display_name": "Python 3"
    },
    "language_info": {
      "name": "python"
    }
  },
  "cells": [
    {
      "cell_type": "markdown",
      "metadata": {
        "id": "view-in-github",
        "colab_type": "text"
      },
      "source": [
        "<a href=\"https://colab.research.google.com/github/BoboDuluYaa/PSD_UTM/blob/main/Tugas1_PSD.ipynb\" target=\"_parent\"><img src=\"https://colab.research.google.com/assets/colab-badge.svg\" alt=\"Open In Colab\"/></a>"
      ]
    },
    {
      "cell_type": "code",
      "execution_count": 18,
      "metadata": {
        "colab": {
          "base_uri": "https://localhost:8080/"
        },
        "id": "GyO3cZetzQyr",
        "outputId": "4a12679e-ca90-46f8-cf33-9668aa82aec1"
      },
      "outputs": [
        {
          "output_type": "stream",
          "name": "stdout",
          "text": [
            "Mean: 85501268.12\n",
            "Median: 75184417.0\n",
            "Mode: 4092607\n",
            "Range: 184751741\n",
            "Variance: 3880892157942992.5\n",
            "Standard Deviation: 62296806.96426577\n"
          ]
        }
      ],
      "source": [
        "import pandas as pd\n",
        "\n",
        "#1 Mengakses file dari CSV\n",
        "data = pd.read_csv('dummydat.csv')\n",
        "\n",
        "#2 Mengubah data kategorikal menjadi numerik one-hot encoding\n",
        "data_encoded = pd.get_dummies(data, columns=[\"status_perkawinan\", \"jenis_kelamin\"], drop_first=True)\n",
        "\n",
        "numeric_column = \"saldo_saat_ini\"\n",
        "data_encoded[numeric_column] = pd.to_numeric(data_encoded[numeric_column], errors='coerce')\n",
        "\n",
        "#3 Menghitung mean media modus\n",
        "mean = data_encoded[numeric_column].mean()\n",
        "median = data_encoded[numeric_column].median()\n",
        "mode = data_encoded[numeric_column].mode()[0]\n",
        "\n",
        "print(\"Mean:\", mean)\n",
        "print(\"Median:\", median)\n",
        "print(\"Mode:\", mode)\n",
        "\n",
        "#4 Menghitung ukuran penyebaran (range, variance, standard deviation)\n",
        "range_value = data_encoded[numeric_column].max() - data_encoded[numeric_column].min()\n",
        "variance = data_encoded[numeric_column].var()\n",
        "std_deviation = data_encoded[numeric_column].std()\n",
        "\n",
        "print(\"Range:\", range_value)\n",
        "print(\"Variance:\", variance)\n",
        "print(\"Standard Deviation:\", std_deviation)"
      ]
    }
  ]
}