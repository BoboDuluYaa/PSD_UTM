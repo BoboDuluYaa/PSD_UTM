{
  "nbformat": 4,
  "nbformat_minor": 0,
  "metadata": {
    "colab": {
      "provenance": [],
      "mount_file_id": "1pL0Qpe73vX40obhJSo5XHOB9rlHzKRkg",
      "authorship_tag": "ABX9TyOf980nu6em9djFsl+cg4cA",
      "include_colab_link": true
    },
    "kernelspec": {
      "name": "python3",
      "display_name": "Python 3"
    },
    "language_info": {
      "name": "python"
    }
  },
  "cells": [
    {
      "cell_type": "markdown",
      "metadata": {
        "id": "view-in-github",
        "colab_type": "text"
      },
      "source": [
        "<a href=\"https://colab.research.google.com/github/BoboDuluYaa/PSD_UTM/blob/main/19041110018_AhzamZaghrendi_01.ipynb\" target=\"_parent\"><img src=\"https://colab.research.google.com/assets/colab-badge.svg\" alt=\"Open In Colab\"/></a>"
      ]
    },
    {
      "cell_type": "code",
      "execution_count": null,
      "metadata": {
        "colab": {
          "base_uri": "https://localhost:8080/"
        },
        "collapsed": true,
        "id": "ZQTeoTg7xF9L",
        "outputId": "ea950f9d-0b96-4a88-b3d3-a7c7ffdbd3b5"
      },
      "outputs": [
        {
          "output_type": "stream",
          "name": "stdout",
          "text": [
            "[3 0 2 0 1 1]\n"
          ]
        }
      ],
      "source": [
        "#Label Encoding\n",
        "from sklearn.preprocessing import LabelEncoder\n",
        "\n",
        "data = [\"Soto\", \"Bakso\", \"Nasi Goreng\", \"Bakso\", \"Mie Ayam\", \"Mie Ayam\"]\n",
        "label_encoder = LabelEncoder()\n",
        "numeric_data = label_encoder.fit_transform(data)\n",
        "\n",
        "print(numeric_data)"
      ]
    },
    {
      "cell_type": "code",
      "source": [
        "#One-Hot Encoding\n",
        "import pandas as pd\n",
        "\n",
        "data = [\"Bangkalan\", \"Sampang\", \"Sampang\", \"Pamekasan\", \"Sumenep\", \"Bangkalan\", \"Jakarta\"]\n",
        "one_hot_encoded_data = pd.get_dummies(data)\n",
        "\n",
        "print(one_hot_encoded_data)"
      ],
      "metadata": {
        "colab": {
          "base_uri": "https://localhost:8080/"
        },
        "collapsed": true,
        "id": "mdfivYlXyTAF",
        "outputId": "79ac1874-c46f-4e33-e128-b38064482292"
      },
      "execution_count": null,
      "outputs": [
        {
          "output_type": "stream",
          "name": "stdout",
          "text": [
            "   Bangkalan  Jakarta  Pamekasan  Sampang  Sumenep\n",
            "0       True    False      False    False    False\n",
            "1      False    False      False     True    False\n",
            "2      False    False      False     True    False\n",
            "3      False    False       True    False    False\n",
            "4      False    False      False    False     True\n",
            "5       True    False      False    False    False\n",
            "6      False     True      False    False    False\n"
          ]
        }
      ]
    },
    {
      "cell_type": "code",
      "source": [
        "#Target Encoding\n",
        "import pandas as pd\n",
        "\n",
        "data = pd.DataFrame({\"Country\" : [\"Indonesia\", \"Malaysia\", \"Indonesia\", \"Brunei Darussalam\", \"Filipina\", \"Indonesia\", \"Malaysia\"], \"Target\" : [1, 0, 1, 0, 1, 0, 1]})\n",
        "\n",
        "mean_target = data.groupby(\"Country\")[\"Target\"].mean()\n",
        "\n",
        "data[\"Country\"] = data[\"Country\"].map(mean_target)\n",
        "\n",
        "print(data)"
      ],
      "metadata": {
        "colab": {
          "base_uri": "https://localhost:8080/"
        },
        "collapsed": true,
        "id": "swSNzqMzzkRj",
        "outputId": "e81638f6-9906-4b5f-f233-e12531994846"
      },
      "execution_count": null,
      "outputs": [
        {
          "output_type": "stream",
          "name": "stdout",
          "text": [
            "    Country  Target\n",
            "0  0.666667       1\n",
            "1  0.500000       0\n",
            "2  0.666667       1\n",
            "3  0.000000       0\n",
            "4  1.000000       1\n",
            "5  0.666667       0\n",
            "6  0.500000       1\n"
          ]
        }
      ]
    },
    {
      "cell_type": "code",
      "source": [
        "import pandas as pd\n",
        "\n",
        "df = pd.read_csv('Data_Dummy.csv')\n",
        "\n",
        "print()"
      ],
      "metadata": {
        "colab": {
          "base_uri": "https://localhost:8080/"
        },
        "id": "hv-Dnpkm4VkL",
        "outputId": "bd2da1d1-2f6a-4abc-a9fa-92fc338407f6"
      },
      "execution_count": null,
      "outputs": [
        {
          "output_type": "stream",
          "name": "stdout",
          "text": [
            "   No  Nama JK   UTS  UAS        Kota\n",
            "0   1  Budi  L    90  100   Bangkalan\n",
            "1   2   Eva  P    80   80    Surabaya\n",
            "2   3  Lela  P    90   75   Bangkalan\n",
            "3   4   Uti  P    85   50  Bojonegoro\n"
          ]
        }
      ]
    },
    {
      "cell_type": "code",
      "source": [
        "import pandas as pd\n",
        "from sklearn.preprocessing import LabelEncoder\n",
        "\n",
        "file_path = \"Data_Dummy.csv\"\n",
        "df = pd.read_csv(file_path)\n",
        "\n",
        "print(\"Data awal\\n\", df.head())\n",
        "\n",
        "categorical_columns = df.select_dtypes(include=['object']).columns\n",
        "label_encoder = LabelEncoder()\n",
        "\n",
        "for column in categorical_columns:\n",
        "    df[column + \"_encoded\"] = label_encoder.fit_transform(df[column].astype(str))\n",
        "\n",
        "print(\"\\n\\nData setelah label encoding\\n\", df.head())"
      ],
      "metadata": {
        "colab": {
          "base_uri": "https://localhost:8080/"
        },
        "id": "2Qbq_RL28hFn",
        "outputId": "2f3d051f-bd22-49a1-cb63-b91d002fa10e"
      },
      "execution_count": 7,
      "outputs": [
        {
          "output_type": "stream",
          "name": "stdout",
          "text": [
            "Data awal\n",
            "    No  Nama JK   UTS  UAS        Kota\n",
            "0   1  Budi  L    90  100   Bangkalan\n",
            "1   2   Eva  P    80   80    Surabaya\n",
            "2   3  Lela  P    90   75   Bangkalan\n",
            "3   4   Uti  P    85   50  Bojonegoro\n",
            "\n",
            "\n",
            "Data setelah label encoding\n",
            "    No  Nama JK   UTS  UAS        Kota  Nama_encoded  JK_encoded  Kota_encoded\n",
            "0   1  Budi  L    90  100   Bangkalan             0           0             0\n",
            "1   2   Eva  P    80   80    Surabaya             1           1             2\n",
            "2   3  Lela  P    90   75   Bangkalan             2           1             0\n",
            "3   4   Uti  P    85   50  Bojonegoro             3           1             1\n"
          ]
        }
      ]
    }
  ]
}